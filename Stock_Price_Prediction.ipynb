{
  "nbformat": 4,
  "nbformat_minor": 0,
  "metadata": {
    "colab": {
      "name": "Stock Price Prediction",
      "provenance": [],
      "collapsed_sections": []
    },
    "kernelspec": {
      "name": "python3",
      "display_name": "Python 3"
    },
    "language_info": {
      "name": "python"
    }
  },
  "cells": [
    {
      "cell_type": "code",
      "metadata": {
        "id": "LZTDL3Xr2EDO"
      },
      "source": [
        "import numpy as np\n",
        "import pandas as pd"
      ],
      "execution_count": null,
      "outputs": []
    },
    {
      "cell_type": "markdown",
      "metadata": {
        "id": "4rlBecWZ22We"
      },
      "source": [
        "## Reading Dataset\n",
        "\n",
        "For reading the dataset we will be using pandas library.\n",
        "Pandas is a python package which is basically used to handel and clean the data. We read the dataset as [Pandas DataFrame](https://pandas.pydata.org/docs/reference/api/pandas.DataFrame.html). \n",
        "To read the csv file as pandas DataFrame, we take help of [read_csv](https://pandas.pydata.org/pandas-docs/stable/reference/api/pandas.read_csv.html) method of the Pandas DataFrame.\n",
        "\n"
      ]
    },
    {
      "cell_type": "code",
      "metadata": {
        "id": "DwxqaHiG2mka"
      },
      "source": [
        "df = pd.read_csv(\"/content/Uniqlo(FastRetailing) 2012-2016 Training - stocks2012-2016.csv\")"
      ],
      "execution_count": null,
      "outputs": []
    },
    {
      "cell_type": "code",
      "metadata": {
        "colab": {
          "base_uri": "https://localhost:8080/",
          "height": 203
        },
        "id": "GDDFpUKV2rA6",
        "outputId": "de69e4ce-86c8-4d26-a97f-384a3f118e55"
      },
      "source": [
        "# head shows the first few rows (by-default 5) of the DataFrame \n",
        "df.head()"
      ],
      "execution_count": null,
      "outputs": [
        {
          "output_type": "execute_result",
          "data": {
            "text/html": [
              "<div>\n",
              "<style scoped>\n",
              "    .dataframe tbody tr th:only-of-type {\n",
              "        vertical-align: middle;\n",
              "    }\n",
              "\n",
              "    .dataframe tbody tr th {\n",
              "        vertical-align: top;\n",
              "    }\n",
              "\n",
              "    .dataframe thead th {\n",
              "        text-align: right;\n",
              "    }\n",
              "</style>\n",
              "<table border=\"1\" class=\"dataframe\">\n",
              "  <thead>\n",
              "    <tr style=\"text-align: right;\">\n",
              "      <th></th>\n",
              "      <th>Date</th>\n",
              "      <th>Open</th>\n",
              "      <th>High</th>\n",
              "      <th>Low</th>\n",
              "      <th>Close</th>\n",
              "      <th>Volume</th>\n",
              "      <th>Stock Trading</th>\n",
              "    </tr>\n",
              "  </thead>\n",
              "  <tbody>\n",
              "    <tr>\n",
              "      <th>0</th>\n",
              "      <td>2016-12-30</td>\n",
              "      <td>42120</td>\n",
              "      <td>42330</td>\n",
              "      <td>41700</td>\n",
              "      <td>41830</td>\n",
              "      <td>610000</td>\n",
              "      <td>25628028000</td>\n",
              "    </tr>\n",
              "    <tr>\n",
              "      <th>1</th>\n",
              "      <td>2016-12-29</td>\n",
              "      <td>43000</td>\n",
              "      <td>43220</td>\n",
              "      <td>42540</td>\n",
              "      <td>42660</td>\n",
              "      <td>448400</td>\n",
              "      <td>19188227000</td>\n",
              "    </tr>\n",
              "    <tr>\n",
              "      <th>2</th>\n",
              "      <td>2016-12-28</td>\n",
              "      <td>43940</td>\n",
              "      <td>43970</td>\n",
              "      <td>43270</td>\n",
              "      <td>43270</td>\n",
              "      <td>339900</td>\n",
              "      <td>14780670000</td>\n",
              "    </tr>\n",
              "    <tr>\n",
              "      <th>3</th>\n",
              "      <td>2016-12-27</td>\n",
              "      <td>43140</td>\n",
              "      <td>43700</td>\n",
              "      <td>43140</td>\n",
              "      <td>43620</td>\n",
              "      <td>400100</td>\n",
              "      <td>17427993000</td>\n",
              "    </tr>\n",
              "    <tr>\n",
              "      <th>4</th>\n",
              "      <td>2016-12-26</td>\n",
              "      <td>43310</td>\n",
              "      <td>43660</td>\n",
              "      <td>43090</td>\n",
              "      <td>43340</td>\n",
              "      <td>358200</td>\n",
              "      <td>15547803000</td>\n",
              "    </tr>\n",
              "  </tbody>\n",
              "</table>\n",
              "</div>"
            ],
            "text/plain": [
              "         Date   Open   High    Low  Close  Volume  Stock Trading\n",
              "0  2016-12-30  42120  42330  41700  41830  610000    25628028000\n",
              "1  2016-12-29  43000  43220  42540  42660  448400    19188227000\n",
              "2  2016-12-28  43940  43970  43270  43270  339900    14780670000\n",
              "3  2016-12-27  43140  43700  43140  43620  400100    17427993000\n",
              "4  2016-12-26  43310  43660  43090  43340  358200    15547803000"
            ]
          },
          "metadata": {
            "tags": []
          },
          "execution_count": 3
        }
      ]
    },
    {
      "cell_type": "code",
      "metadata": {
        "colab": {
          "base_uri": "https://localhost:8080/",
          "height": 142
        },
        "id": "BCozvT3s7paS",
        "outputId": "d848389c-c917-4ae8-abcc-4a7478355252"
      },
      "source": [
        "# tail shows the last  few rows (by-default 5) of the DataFrame \n",
        "df.tail(3)"
      ],
      "execution_count": null,
      "outputs": [
        {
          "output_type": "execute_result",
          "data": {
            "text/html": [
              "<div>\n",
              "<style scoped>\n",
              "    .dataframe tbody tr th:only-of-type {\n",
              "        vertical-align: middle;\n",
              "    }\n",
              "\n",
              "    .dataframe tbody tr th {\n",
              "        vertical-align: top;\n",
              "    }\n",
              "\n",
              "    .dataframe thead th {\n",
              "        text-align: right;\n",
              "    }\n",
              "</style>\n",
              "<table border=\"1\" class=\"dataframe\">\n",
              "  <thead>\n",
              "    <tr style=\"text-align: right;\">\n",
              "      <th></th>\n",
              "      <th>Date</th>\n",
              "      <th>Open</th>\n",
              "      <th>High</th>\n",
              "      <th>Low</th>\n",
              "      <th>Close</th>\n",
              "      <th>Volume</th>\n",
              "      <th>Stock Trading</th>\n",
              "    </tr>\n",
              "  </thead>\n",
              "  <tbody>\n",
              "    <tr>\n",
              "      <th>1223</th>\n",
              "      <td>2012-01-06</td>\n",
              "      <td>13990</td>\n",
              "      <td>14030</td>\n",
              "      <td>13790</td>\n",
              "      <td>13850</td>\n",
              "      <td>765500</td>\n",
              "      <td>10635609000</td>\n",
              "    </tr>\n",
              "    <tr>\n",
              "      <th>1224</th>\n",
              "      <td>2012-01-05</td>\n",
              "      <td>13720</td>\n",
              "      <td>13840</td>\n",
              "      <td>13600</td>\n",
              "      <td>13800</td>\n",
              "      <td>511500</td>\n",
              "      <td>7030811000</td>\n",
              "    </tr>\n",
              "    <tr>\n",
              "      <th>1225</th>\n",
              "      <td>2012-01-04</td>\n",
              "      <td>14050</td>\n",
              "      <td>14050</td>\n",
              "      <td>13700</td>\n",
              "      <td>13720</td>\n",
              "      <td>559100</td>\n",
              "      <td>7719804000</td>\n",
              "    </tr>\n",
              "  </tbody>\n",
              "</table>\n",
              "</div>"
            ],
            "text/plain": [
              "            Date   Open   High    Low  Close  Volume  Stock Trading\n",
              "1223  2012-01-06  13990  14030  13790  13850  765500    10635609000\n",
              "1224  2012-01-05  13720  13840  13600  13800  511500     7030811000\n",
              "1225  2012-01-04  14050  14050  13700  13720  559100     7719804000"
            ]
          },
          "metadata": {
            "tags": []
          },
          "execution_count": 4
        }
      ]
    },
    {
      "cell_type": "markdown",
      "metadata": {
        "id": "odBrdmgc2xIA"
      },
      "source": [
        "This time just for simplicity, we will only focus on the Open Value of the stock and will ignore all other values.\n",
        "\n",
        "> **Note:** In our case the dataset is already sorted out based on the dates, but if it is not sorted, we need to sort the data based on the date first."
      ]
    },
    {
      "cell_type": "code",
      "metadata": {
        "colab": {
          "base_uri": "https://localhost:8080/"
        },
        "id": "dQqC08MC-abN",
        "outputId": "35cc59b7-0351-45eb-9fa1-708c0fb60fb2"
      },
      "source": [
        "df = df['Open']\n",
        "df.head()"
      ],
      "execution_count": null,
      "outputs": [
        {
          "output_type": "execute_result",
          "data": {
            "text/plain": [
              "0    42120\n",
              "1    43000\n",
              "2    43940\n",
              "3    43140\n",
              "4    43310\n",
              "Name: Open, dtype: int64"
            ]
          },
          "metadata": {
            "tags": []
          },
          "execution_count": 5
        }
      ]
    },
    {
      "cell_type": "markdown",
      "metadata": {
        "id": "2PSi-aYWAI3L"
      },
      "source": [
        "## Ploting the time series\n",
        "\n",
        "For plotting any data we generally take help of the [matplotlib library](https://matplotlib.org/stable/tutorials/introductory/pyplot.html)."
      ]
    },
    {
      "cell_type": "code",
      "metadata": {
        "id": "Sjpu6Df4_c82"
      },
      "source": [
        "# Creating a function  to plot the time series\n",
        "\n",
        "import matplotlib.pyplot as plt\n",
        "\n",
        "def plot_series(data):\n",
        "  '''\n",
        "  The function plot the time-series data passed on to the function.\n",
        "  INPUT:\n",
        "   - data: List of the time series data to plot \n",
        "  RETURN:\n",
        "   None\n",
        "  '''\n",
        "\n",
        "  for df in data:\n",
        "    plt.plot(df)\n",
        "  plt.show()"
      ],
      "execution_count": null,
      "outputs": []
    },
    {
      "cell_type": "markdown",
      "metadata": {
        "id": "6CtZuivv_9GJ"
      },
      "source": [
        "## Splitting the dataset in Test and Train set\n",
        "\n",
        "We always train the model on some data called \"train dataset\", but while testing the performance of the model, we always do that on some other data which was not used in for the training."
      ]
    },
    {
      "cell_type": "code",
      "metadata": {
        "id": "9hpKhlekCHN_"
      },
      "source": [
        "# Let's just use 80% of the whole dataset that we have for training and the rest for testing\n",
        "\n",
        "train = df[:int(0.8*len(df))]\n",
        "test = df[int(0.8*len(df)):]"
      ],
      "execution_count": null,
      "outputs": []
    },
    {
      "cell_type": "markdown",
      "metadata": {
        "id": "7CRlUbZ5qj8m"
      },
      "source": [
        "## Reshaping the data into the required form to be fed into the RNN"
      ]
    },
    {
      "cell_type": "code",
      "metadata": {
        "id": "NI_UzJ5GC2G4"
      },
      "source": [
        "def arrange(data, window=10):\n",
        "  '''\n",
        "  The function rearrang the data into a suitable format to be fed into the RNN\n",
        "\n",
        "  INPUT:\n",
        "   - data: the dataset to be reshaped\n",
        "   - window: number of past points to be taken into account while making the next prediction\n",
        "\n",
        "  OUTPUT:\n",
        "   - Returns two list as input sequence (x) and the target value (y)\n",
        "  '''\n",
        "  x = []\n",
        "  y = []\n",
        "\n",
        "  # Loop through the data\n",
        "  for i, val in enumerate(data):\n",
        "    if i<window:  \n",
        "      # if there are not enough number of records available in the past, then continue\n",
        "      continue\n",
        "    x.append((data[i-window: i-1]).reshape(-1,1))\n",
        "    y.append(data[i].reshape(-1,1))\n",
        "\n",
        "  # convert the list into numpy array\n",
        "  # NOTE: It's not a necessary step, but it's generally used as numpy array do the computations faster than the python list\n",
        "  x = np.asarray(x)\n",
        "  y = np.asarray(y)\n",
        "\n",
        "  return x,y"
      ],
      "execution_count": null,
      "outputs": []
    },
    {
      "cell_type": "code",
      "metadata": {
        "colab": {
          "base_uri": "https://localhost:8080/"
        },
        "id": "6KnffSQaE9IR",
        "outputId": "1ad4b616-6d30-4621-f6bf-b6ec371e83ca"
      },
      "source": [
        "X_train, y_train = arrange(train, 15)\n",
        "\n",
        "print(\"x-shape is: {} and y-shape is: {}\".format(X_train.shape, y_train.shape))"
      ],
      "execution_count": null,
      "outputs": [
        {
          "output_type": "stream",
          "text": [
            "x-shape is: (965, 14, 1) and y-shape is: (965, 1, 1)\n"
          ],
          "name": "stdout"
        }
      ]
    },
    {
      "cell_type": "code",
      "metadata": {
        "colab": {
          "base_uri": "https://localhost:8080/"
        },
        "id": "3V5jWt7jFSww",
        "outputId": "3c28d755-5d7d-45c7-87f4-491e44a998a6"
      },
      "source": [
        "# Let's see how a data point looks like\n",
        "print(X_train[0])\n",
        "print(y_train[0])"
      ],
      "execution_count": null,
      "outputs": [
        {
          "output_type": "stream",
          "text": [
            "[[42120]\n",
            " [43000]\n",
            " [43940]\n",
            " [43140]\n",
            " [43310]\n",
            " [43660]\n",
            " [43900]\n",
            " [42910]\n",
            " [42790]\n",
            " [43350]\n",
            " [43440]\n",
            " [43300]\n",
            " [43130]\n",
            " [43950]]\n",
            "[[41480]]\n"
          ],
          "name": "stdout"
        }
      ]
    },
    {
      "cell_type": "markdown",
      "metadata": {
        "id": "xNrxKY9cri5O"
      },
      "source": [
        "As you can see X[0] is a sequence of 14 input-values and y is the target 15th value "
      ]
    },
    {
      "cell_type": "markdown",
      "metadata": {
        "id": "EL3D4eHqFuuS"
      },
      "source": [
        "## Building the Model\n",
        "\n",
        "Now that we have our dataset ready, it's time to build the model.\n",
        "\n",
        "To build the model, we are gonna use tensorflow. Tensorflow is open source library by google, used for building the Neural Networks. It is a very powerfull library and make our code so easy to write. "
      ]
    },
    {
      "cell_type": "code",
      "metadata": {
        "id": "OfyHkf5krXQZ"
      },
      "source": [
        "import tensorflow as tf\n",
        "from tensorflow import keras\n",
        "from keras.models import Sequential\n",
        "from keras.layers import SimpleRNN, Dense, Input"
      ],
      "execution_count": null,
      "outputs": []
    },
    {
      "cell_type": "code",
      "metadata": {
        "colab": {
          "base_uri": "https://localhost:8080/"
        },
        "id": "ghVS0jRgreUo",
        "outputId": "388979d7-41db-480d-a333-578ee29fe391"
      },
      "source": [
        "Net = Sequential()\n",
        "Net.add(SimpleRNN(3, activation='relu', input_shape=X_train.shape[1:]))\n",
        "Net.add(Dense(1, activation = 'relu'))\n",
        "\n",
        "Net.summary()"
      ],
      "execution_count": null,
      "outputs": [
        {
          "output_type": "stream",
          "text": [
            "Model: \"sequential_5\"\n",
            "_________________________________________________________________\n",
            "Layer (type)                 Output Shape              Param #   \n",
            "=================================================================\n",
            "simple_rnn_3 (SimpleRNN)     (None, 3)                 15        \n",
            "_________________________________________________________________\n",
            "dense_2 (Dense)              (None, 1)                 4         \n",
            "=================================================================\n",
            "Total params: 19\n",
            "Trainable params: 19\n",
            "Non-trainable params: 0\n",
            "_________________________________________________________________\n"
          ],
          "name": "stdout"
        }
      ]
    },
    {
      "cell_type": "code",
      "metadata": {
        "id": "JTOiewdgsTjz"
      },
      "source": [
        "Net.compile(loss = 'mean_squared_error', optimizer='adam', metrics=['mse'])"
      ],
      "execution_count": null,
      "outputs": []
    },
    {
      "cell_type": "code",
      "metadata": {
        "colab": {
          "base_uri": "https://localhost:8080/"
        },
        "id": "p6ImpwbQsnb0",
        "outputId": "18cb887c-2dc1-429d-99fb-9a4793060df1"
      },
      "source": [
        "Net.fit(X_train, y_train, epochs=10)"
      ],
      "execution_count": null,
      "outputs": [
        {
          "output_type": "stream",
          "text": [
            "Epoch 1/10\n",
            "31/31 [==============================] - 0s 5ms/step - loss: 160898704.0000 - mse: 160898704.0000\n",
            "Epoch 2/10\n",
            "31/31 [==============================] - 0s 4ms/step - loss: 30275346.0000 - mse: 30275346.0000\n",
            "Epoch 3/10\n",
            "31/31 [==============================] - 0s 4ms/step - loss: 2436452.7500 - mse: 2436452.7500\n",
            "Epoch 4/10\n",
            "31/31 [==============================] - 0s 4ms/step - loss: 2102544.0000 - mse: 2102544.0000\n",
            "Epoch 5/10\n",
            "31/31 [==============================] - 0s 5ms/step - loss: 2060192.5000 - mse: 2060192.5000\n",
            "Epoch 6/10\n",
            "31/31 [==============================] - 0s 6ms/step - loss: 2066148.3750 - mse: 2066148.3750\n",
            "Epoch 7/10\n",
            "31/31 [==============================] - 0s 5ms/step - loss: 2063589.0000 - mse: 2063589.0000\n",
            "Epoch 8/10\n",
            "31/31 [==============================] - 0s 5ms/step - loss: 2064338.8750 - mse: 2064338.8750\n",
            "Epoch 9/10\n",
            "31/31 [==============================] - 0s 5ms/step - loss: 2069408.3750 - mse: 2069408.3750\n",
            "Epoch 10/10\n",
            "31/31 [==============================] - 0s 5ms/step - loss: 2058988.5000 - mse: 2058988.5000\n"
          ],
          "name": "stdout"
        },
        {
          "output_type": "execute_result",
          "data": {
            "text/plain": [
              "<keras.callbacks.History at 0x7f2a05eba2d0>"
            ]
          },
          "metadata": {},
          "execution_count": 49
        }
      ]
    },
    {
      "cell_type": "code",
      "metadata": {
        "id": "NYBqulKUsqOE",
        "colab": {
          "base_uri": "https://localhost:8080/"
        },
        "outputId": "c3bef9ba-bfef-4525-e46a-cdbe3ca0338b"
      },
      "source": [
        "X_test, y_test = arrange(test, 15)\n",
        "pred = Net.predict(X_test)\n",
        "pred[:,0]"
      ],
      "execution_count": null,
      "outputs": [
        {
          "output_type": "execute_result",
          "data": {
            "text/plain": [
              "array([19320.377, 19006.06 , 19049.826, 18866.4  , 18777.234, 18624.332,\n",
              "       18564.592, 18287.006, 18208.924, 17984.9  , 17842.889, 17632.172,\n",
              "       17555.666, 17319.986, 17115.207, 17011.75 , 16994.803, 16876.875,\n",
              "       16976.201, 17032.166, 17219.307, 17237.115, 17277.223, 17422.803,\n",
              "       17492.963, 17667.24 , 17701.34 , 17802.498, 17815.99 , 17604.271,\n",
              "       17369.44 , 17301.307, 17082.287, 17093.748, 16835.98 , 16639.264,\n",
              "       16397.623, 16297.85 , 16489.219, 17037.604, 17471.29 , 17834.291,\n",
              "       17946.303, 18048.334, 17856.736, 17831.441, 17944.123, 18062.13 ,\n",
              "       18029.697, 18070.451, 18052.51 , 18011.127, 18098.225, 18026.607,\n",
              "       17815.22 , 18183.002, 18222.637, 18254.592, 18181.945, 18082.588,\n",
              "       18069.799, 18118.611, 17973.953, 17974.725, 18050.76 , 18113.66 ,\n",
              "       18054.26 , 18272.053, 18286.66 , 18355.307, 18255.947, 18218.771,\n",
              "       18146.393, 18035.72 , 17986.994, 17974.451, 17956.92 , 17726.12 ,\n",
              "       17616.781, 17443.203, 17353.322, 17399.596, 17270.18 , 17136.49 ,\n",
              "       16898.91 , 16730.709, 16316.265, 16376.137, 16147.43 , 16117.484,\n",
              "       16062.788, 16059.479, 15951.752, 15862.182, 15831.264, 15941.293,\n",
              "       15902.524, 15940.041, 16015.162, 15678.621, 15542.393, 15509.941,\n",
              "       15403.495, 15419.529, 15318.836, 15534.92 , 15572.477, 15693.843,\n",
              "       15568.609, 15808.502, 15579.238, 15833.787, 15572.348, 15473.293,\n",
              "       15328.396, 15320.293, 15313.17 , 15384.294, 15446.99 , 15585.03 ,\n",
              "       15438.882, 15407.302, 15318.38 , 15274.452, 15412.076, 15516.348,\n",
              "       15930.271, 15915.665, 16459.879, 16703.559, 17031.387, 17178.352,\n",
              "       17373.584, 17397.607, 17384.47 , 17116.707, 17008.168, 17039.666,\n",
              "       17074.883, 16980.854, 16747.258, 16835.143, 16772.682, 16774.602,\n",
              "       16630.854, 16656.307, 16724.775, 16863.768, 16814.41 , 16777.166,\n",
              "       17189.12 , 17274.166, 17527.111, 17596.72 , 17744.822, 17743.045,\n",
              "       18083.35 , 18173.889, 18367.172, 18560.13 , 18471.049, 18698.463,\n",
              "       18386.04 , 17962.44 , 17744.943, 17618.994, 17529.635, 17539.127,\n",
              "       17577.623, 18044.459, 18350.846, 18526.174, 18472.99 , 18391.16 ,\n",
              "       18368.316, 18289.564, 18208.662, 18105.506, 18036.143, 17821.803,\n",
              "       17815.354, 17836.787, 17865.943, 17958.291, 17780.682, 17864.064,\n",
              "       17759.037, 17408.197, 17181.121, 17178.248, 17029.074, 17027.975,\n",
              "       16868.676, 16842.367, 16595.605, 16689.582, 16624.33 , 16607.033,\n",
              "       16506.842, 16445.33 , 16628.629, 16351.299, 16320.084, 16021.646,\n",
              "       15844.322, 15689.609, 15705.954, 15765.365, 15741.381, 15731.15 ,\n",
              "       15647.096, 15557.002, 15502.271, 15288.002, 15201.945, 15130.277,\n",
              "       14949.406, 14959.201, 14993.628, 14857.431, 14772.133, 14875.992,\n",
              "       14870.146, 14816.799, 14725.857, 14675.895, 14698.254, 14583.008,\n",
              "       14494.389, 14199.877, 14169.006], dtype=float32)"
            ]
          },
          "metadata": {},
          "execution_count": 72
        }
      ]
    },
    {
      "cell_type": "markdown",
      "metadata": {
        "id": "1z3V8LG_ryEi"
      },
      "source": [
        "## Comparing predictions with the actual value using the plot"
      ]
    },
    {
      "cell_type": "code",
      "metadata": {
        "colab": {
          "base_uri": "https://localhost:8080/",
          "height": 265
        },
        "id": "Ny-NgO5FnFrw",
        "outputId": "977b9e87-3734-4930-d057-9ec0368072ba"
      },
      "source": [
        "plot_series([pred[:,0], y_test[:,:,0]])"
      ],
      "execution_count": null,
      "outputs": [
        {
          "output_type": "display_data",
          "data": {
            "image/png": "[encoded data removed]",
            "text/plain": [
              "<Figure size 432x288 with 1 Axes>"
            ]
          },
          "metadata": {
            "needs_background": "light"
          }
        }
      ]
    },
    {
      "cell_type": "markdown",
      "metadata": {
        "id": "BCz46wWRr4nw"
      },
      "source": [
        "The plot in blue represents the prdicted value by the model, while the plot in orange represents the actual value"
      ]
    }
  ]
}